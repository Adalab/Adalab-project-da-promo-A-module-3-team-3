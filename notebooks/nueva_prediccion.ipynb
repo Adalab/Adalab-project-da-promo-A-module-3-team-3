{
 "cells": [
  {
   "cell_type": "code",
   "execution_count": 1,
   "metadata": {},
   "outputs": [],
   "source": [
    "# Tratamiento de datos\n",
    "# -----------------------------------------------------------------------\n",
    "import numpy as np\n",
    "import pandas as pd\n",
    "\n",
    "\n",
    "# Gráficos\n",
    "# ------------------------------------------------------------------------------\n",
    "import matplotlib.pyplot as plt\n",
    "import seaborn as sns\n",
    "\n",
    "\n",
    "#  Gestión de warnings\n",
    "# ------------------------------------------------------------------------------\n",
    "import warnings\n",
    "warnings.filterwarnings(\"ignore\")\n",
    "\n",
    "\n",
    "# Codificación variables categóricas\n",
    "# ------------------------------------------------------------------------------\n",
    "from sklearn.preprocessing import OneHotEncoder\n",
    "\n",
    "\n",
    "# Modelado y evaluación\n",
    "# ------------------------------------------------------------------------------\n",
    "from sklearn.model_selection import train_test_split\n",
    "from sklearn.tree import DecisionTreeRegressor\n",
    "from sklearn.ensemble import RandomForestRegressor\n",
    "from sklearn import tree\n",
    "from sklearn.metrics import r2_score, mean_squared_error, mean_absolute_error\n",
    "from sklearn.model_selection import GridSearchCV\n",
    "import streamlit as st\n",
    "import pickle\n",
    "\n",
    "pd.options.display.max_columns = None"
   ]
  },
  {
   "cell_type": "code",
   "execution_count": 35,
   "metadata": {},
   "outputs": [],
   "source": [
    "df_cnt_prep = pd.read_pickle(\"../datos/df_cnt_prep.pkl\")"
   ]
  },
  {
   "cell_type": "code",
   "execution_count": 36,
   "metadata": {},
   "outputs": [
    {
     "data": {
      "text/html": [
       "<div>\n",
       "<style scoped>\n",
       "    .dataframe tbody tr th:only-of-type {\n",
       "        vertical-align: middle;\n",
       "    }\n",
       "\n",
       "    .dataframe tbody tr th {\n",
       "        vertical-align: top;\n",
       "    }\n",
       "\n",
       "    .dataframe thead th {\n",
       "        text-align: right;\n",
       "    }\n",
       "</style>\n",
       "<table border=\"1\" class=\"dataframe\">\n",
       "  <thead>\n",
       "    <tr style=\"text-align: right;\">\n",
       "      <th></th>\n",
       "      <th>month</th>\n",
       "      <th>year</th>\n",
       "      <th>weekday</th>\n",
       "      <th>holiday</th>\n",
       "      <th>weathersit</th>\n",
       "      <th>cnt</th>\n",
       "      <th>temp</th>\n",
       "      <th>hum</th>\n",
       "      <th>windspeed</th>\n",
       "      <th>workingday_0</th>\n",
       "      <th>workingday_1</th>\n",
       "    </tr>\n",
       "  </thead>\n",
       "  <tbody>\n",
       "    <tr>\n",
       "      <th>0</th>\n",
       "      <td>5.69</td>\n",
       "      <td>4</td>\n",
       "      <td>13.82</td>\n",
       "      <td>3</td>\n",
       "      <td>3</td>\n",
       "      <td>985</td>\n",
       "      <td>-0.827613</td>\n",
       "      <td>1.252343</td>\n",
       "      <td>-0.387833</td>\n",
       "      <td>1</td>\n",
       "      <td>0</td>\n",
       "    </tr>\n",
       "    <tr>\n",
       "      <th>1</th>\n",
       "      <td>5.95</td>\n",
       "      <td>4</td>\n",
       "      <td>14.54</td>\n",
       "      <td>4</td>\n",
       "      <td>3</td>\n",
       "      <td>801</td>\n",
       "      <td>-0.722069</td>\n",
       "      <td>0.480996</td>\n",
       "      <td>0.748899</td>\n",
       "      <td>0</td>\n",
       "      <td>1</td>\n",
       "    </tr>\n",
       "    <tr>\n",
       "      <th>2</th>\n",
       "      <td>8.13</td>\n",
       "      <td>4</td>\n",
       "      <td>14.54</td>\n",
       "      <td>4</td>\n",
       "      <td>4</td>\n",
       "      <td>1349</td>\n",
       "      <td>-1.635432</td>\n",
       "      <td>-1.338073</td>\n",
       "      <td>0.745931</td>\n",
       "      <td>0</td>\n",
       "      <td>1</td>\n",
       "    </tr>\n",
       "    <tr>\n",
       "      <th>3</th>\n",
       "      <td>8.47</td>\n",
       "      <td>4</td>\n",
       "      <td>14.37</td>\n",
       "      <td>4</td>\n",
       "      <td>4</td>\n",
       "      <td>1562</td>\n",
       "      <td>-1.615560</td>\n",
       "      <td>-0.261577</td>\n",
       "      <td>-0.389769</td>\n",
       "      <td>1</td>\n",
       "      <td>0</td>\n",
       "    </tr>\n",
       "    <tr>\n",
       "      <th>4</th>\n",
       "      <td>9.54</td>\n",
       "      <td>4</td>\n",
       "      <td>13.98</td>\n",
       "      <td>4</td>\n",
       "      <td>4</td>\n",
       "      <td>1600</td>\n",
       "      <td>-1.468226</td>\n",
       "      <td>-1.340294</td>\n",
       "      <td>-0.046477</td>\n",
       "      <td>0</td>\n",
       "      <td>1</td>\n",
       "    </tr>\n",
       "  </tbody>\n",
       "</table>\n",
       "</div>"
      ],
      "text/plain": [
       "  month year weekday holiday weathersit   cnt      temp       hum  windspeed  \\\n",
       "0  5.69    4   13.82       3          3   985 -0.827613  1.252343  -0.387833   \n",
       "1  5.95    4   14.54       4          3   801 -0.722069  0.480996   0.748899   \n",
       "2  8.13    4   14.54       4          4  1349 -1.635432 -1.338073   0.745931   \n",
       "3  8.47    4   14.37       4          4  1562 -1.615560 -0.261577  -0.389769   \n",
       "4  9.54    4   13.98       4          4  1600 -1.468226 -1.340294  -0.046477   \n",
       "\n",
       "   workingday_0  workingday_1  \n",
       "0             1             0  \n",
       "1             0             1  \n",
       "2             0             1  \n",
       "3             1             0  \n",
       "4             0             1  "
      ]
     },
     "execution_count": 36,
     "metadata": {},
     "output_type": "execute_result"
    }
   ],
   "source": [
    "df_cnt_prep.head()"
   ]
  },
  {
   "cell_type": "code",
   "execution_count": 41,
   "metadata": {},
   "outputs": [],
   "source": [
    "def prediccion(month, year, weekday, workingday, holiday, weathersit, temp,\thum, windspeed):\n",
    "\n",
    "    with open(\"../datos/estandarizacion.pkl\", \"rb\") as estandarizacion:\n",
    "        scaler = pickle.load(estandarizacion)\n",
    "\n",
    "    with open(\"../datos/one_hot.pkl\", \"rb\") as encoding:\n",
    "        oh = pickle.load(encoding)\n",
    "\n",
    "    with open(\"../datos/mejor_modelo.pkl\", \"rb\") as modelo:\n",
    "        bosque = pickle.load(modelo)\n",
    "    \n",
    "    df_pred = pd.DataFrame({\"month\" : month, \"year\": year, \"weekday\": weekday, \"workingday\": workingday, \"holiday\": holiday, \"weathersit\": weathersit, \"temp\":temp,\t\"hum\":hum, \"windspeed\":windspeed}, index = [0])\n",
    "    df_pred[['month', 'year','weekday','workingday','holiday','weathersit']] = df_pred[['month', 'year','weekday','workingday','holiday','weathersit']].astype(\"category\")\n",
    "    pred_num = df_pred.select_dtypes(include = np.number)\n",
    "    X_escaladas = scaler.transform(pred_num)\n",
    "    num_estandar = pd.DataFrame(X_escaladas, columns = pred_num.columns)\n",
    "    df_pred[num_estandar.columns] = num_estandar\n",
    "\n",
    "    mapa_month = {'August': 9.67,\n",
    "    'December': 6.64,\n",
    "    'January': 5.69,\n",
    "    'July': 9.65,\n",
    "    'March': 8.13,\n",
    "    'May': 9.54,\n",
    "    'October': 9.2,\n",
    "    'April': 8.47,\n",
    "    'June': 9.63,\n",
    "    'November': 7.61,\n",
    "    'September': 9.82,\n",
    "    'February': 5.95}\n",
    "    mapa_year = {2018: 4, 2019: 6, 2020: 6, 2021: 6, 2022: 6, 2023: 6, 2024: 6, 2025: 6}\n",
    "    mapa_weekday = {'Monday': 13.82,\n",
    "    'Tuesday': 13.98,\n",
    "    'Friday': 14.77,\n",
    "    'Saturday': 14.59,\n",
    "    'Sunday': 14.37,\n",
    "    'Thursday': 14.54,\n",
    "    'Wednesday': 13.9}\n",
    "    mapa_holiday = {0: 4, 1: 3}\n",
    "    mapa_weathersit = {1: 4, 2: 3, 3: 1}\n",
    "\n",
    "    categoricas = df_pred.select_dtypes(include = \"category\")\n",
    "    categoricas.drop(['workingday'], axis = 1, inplace = True)\n",
    "    lista_mapas = [mapa_month, mapa_year, mapa_weekday,mapa_holiday,  mapa_weathersit ]\n",
    "    for indice, col in enumerate(categoricas):\n",
    "\n",
    "        df_pred[col] = df_pred[col].map(lista_mapas[indice])\n",
    "\n",
    "    \n",
    "    transformados = oh.transform(df_pred[[\"workingday\"]])\n",
    "    \n",
    "    oh_df = pd.DataFrame(transformados.toarray())\n",
    "    \n",
    "    oh_df.columns = oh.get_feature_names_out()\n",
    "    \n",
    "    df_pred = pd.concat([df_pred, oh_df], axis = 1)\n",
    "\n",
    "    df_pred.drop(\"workingday\", axis = 1, inplace = True)\n",
    "\n",
    "    prediction = bosque.predict(df_pred)\n",
    "    cnt = prediction[0]\n",
    "    return cnt"
   ]
  },
  {
   "cell_type": "code",
   "execution_count": 42,
   "metadata": {},
   "outputs": [],
   "source": [
    "prueba = prediccion(\"January\", 2023, \"Tuesday\", 0, 0, 2, 14.9, 16.65, 16.73)"
   ]
  },
  {
   "cell_type": "code",
   "execution_count": 43,
   "metadata": {},
   "outputs": [
    {
     "data": {
      "text/plain": [
       "4272.55750637529"
      ]
     },
     "execution_count": 43,
     "metadata": {},
     "output_type": "execute_result"
    }
   ],
   "source": [
    "prueba"
   ]
  },
  {
   "cell_type": "code",
   "execution_count": null,
   "metadata": {},
   "outputs": [],
   "source": [
    "\n",
    "def main():\n",
    "    st.title(\"Demo de Random Forest\")\n",
    "\n",
    "    month = st.slider(\"Mes\", \"January\", \"December\")\n",
    "    year = st.slider(\"Año\", 2018, 2025)\n",
    "    weekday = st.slider(\"Día de la semana\", 0, 6)\n",
    "    workingday = st.selectbox(\"Día laborable\", [0, 1])\n",
    "    holiday = st.selectbox(\"Día festivo\", [0, 1])\n",
    "    weathersit = st.slider(\"Clima\", 1, 4)\n",
    "    temp = st.slider(\"Temperatura\", float(df['temp'].min()), float(df['temp'].max()))\n",
    "    hum = st.slider(\"Humedad\", float(df['hum'].min()), float(df['hum'].max()))\n",
    "    windspeed = st.slider(\"Velocidad del viento\", float(df['windspeed'].min()), float(df['windspeed'].max()))\n",
    "\n",
    "    if st.button(\"Predecir\"):\n",
    "        prediction = prediccion(month, year, weekday, workingday, holiday, weathersit, temp, hum, windspeed)\n",
    "        st.success(f\"La cantidad de bicicletas alquiladas estimada es: {int(prediction)}\")\n",
    "\n",
    "if __name__ == '__main__':\n",
    "    main()"
   ]
  },
  {
   "cell_type": "code",
   "execution_count": 45,
   "metadata": {},
   "outputs": [
    {
     "name": "stderr",
     "output_type": "stream",
     "text": [
      "2023-05-26 19:11:17.936 \n",
      "  \u001b[33m\u001b[1mWarning:\u001b[0m to view this Streamlit app on a browser, run it with the following\n",
      "  command:\n",
      "\n",
      "    streamlit run /home/lidya/anaconda3/envs/adalabenv/lib/python3.10/site-packages/ipykernel_launcher.py [ARGUMENTS]\n"
     ]
    },
    {
     "ename": "TypeError",
     "evalue": "SliderMixin.slider() got an unexpected keyword argument 'format_func'",
     "output_type": "error",
     "traceback": [
      "\u001b[0;31m---------------------------------------------------------------------------\u001b[0m",
      "\u001b[0;31mTypeError\u001b[0m                                 Traceback (most recent call last)",
      "\u001b[1;32m/mnt/c/Users/lidya/Documents/Nuestros documentos/Documentos de Lidya/Estudios/Adalab/modulos/modulo3/proyectos/project-da-promo-D-module-3-team-3/notebooks/nueva_prediccion.ipynb Celda 8\u001b[0m in \u001b[0;36m2\n\u001b[1;32m     <a href='vscode-notebook-cell://wsl%2Bubuntu-18.04/mnt/c/Users/lidya/Documents/Nuestros%20documentos/Documentos%20de%20Lidya/Estudios/Adalab/modulos/modulo3/proyectos/project-da-promo-D-module-3-team-3/notebooks/nueva_prediccion.ipynb#X15sdnNjb2RlLXJlbW90ZQ%3D%3D?line=19'>20</a>\u001b[0m         st\u001b[39m.\u001b[39msuccess(\u001b[39mf\u001b[39m\u001b[39m\"\u001b[39m\u001b[39mLa cantidad de bicicletas alquiladas estimada es: \u001b[39m\u001b[39m{\u001b[39;00m\u001b[39mint\u001b[39m(prediction)\u001b[39m}\u001b[39;00m\u001b[39m\"\u001b[39m)\n\u001b[1;32m     <a href='vscode-notebook-cell://wsl%2Bubuntu-18.04/mnt/c/Users/lidya/Documents/Nuestros%20documentos/Documentos%20de%20Lidya/Estudios/Adalab/modulos/modulo3/proyectos/project-da-promo-D-module-3-team-3/notebooks/nueva_prediccion.ipynb#X15sdnNjb2RlLXJlbW90ZQ%3D%3D?line=21'>22</a>\u001b[0m \u001b[39mif\u001b[39;00m \u001b[39m__name__\u001b[39m \u001b[39m==\u001b[39m \u001b[39m'\u001b[39m\u001b[39m__main__\u001b[39m\u001b[39m'\u001b[39m:\n\u001b[0;32m---> <a href='vscode-notebook-cell://wsl%2Bubuntu-18.04/mnt/c/Users/lidya/Documents/Nuestros%20documentos/Documentos%20de%20Lidya/Estudios/Adalab/modulos/modulo3/proyectos/project-da-promo-D-module-3-team-3/notebooks/nueva_prediccion.ipynb#X15sdnNjb2RlLXJlbW90ZQ%3D%3D?line=22'>23</a>\u001b[0m     main()\n",
      "\u001b[1;32m/mnt/c/Users/lidya/Documents/Nuestros documentos/Documentos de Lidya/Estudios/Adalab/modulos/modulo3/proyectos/project-da-promo-D-module-3-team-3/notebooks/nueva_prediccion.ipynb Celda 8\u001b[0m in \u001b[0;36m8\n\u001b[1;32m      <a href='vscode-notebook-cell://wsl%2Bubuntu-18.04/mnt/c/Users/lidya/Documents/Nuestros%20documentos/Documentos%20de%20Lidya/Estudios/Adalab/modulos/modulo3/proyectos/project-da-promo-D-module-3-team-3/notebooks/nueva_prediccion.ipynb#X15sdnNjb2RlLXJlbW90ZQ%3D%3D?line=3'>4</a>\u001b[0m meses \u001b[39m=\u001b[39m [\u001b[39m'\u001b[39m\u001b[39mJanuary\u001b[39m\u001b[39m'\u001b[39m, \u001b[39m'\u001b[39m\u001b[39mFebruary\u001b[39m\u001b[39m'\u001b[39m, \u001b[39m'\u001b[39m\u001b[39mMarch\u001b[39m\u001b[39m'\u001b[39m, \u001b[39m'\u001b[39m\u001b[39mApril\u001b[39m\u001b[39m'\u001b[39m, \u001b[39m'\u001b[39m\u001b[39mMay\u001b[39m\u001b[39m'\u001b[39m, \u001b[39m'\u001b[39m\u001b[39mJune\u001b[39m\u001b[39m'\u001b[39m, \u001b[39m'\u001b[39m\u001b[39mJuly\u001b[39m\u001b[39m'\u001b[39m, \u001b[39m'\u001b[39m\u001b[39mAugust\u001b[39m\u001b[39m'\u001b[39m, \u001b[39m'\u001b[39m\u001b[39mSeptember\u001b[39m\u001b[39m'\u001b[39m, \u001b[39m'\u001b[39m\u001b[39mOctober\u001b[39m\u001b[39m'\u001b[39m, \u001b[39m'\u001b[39m\u001b[39mNovember\u001b[39m\u001b[39m'\u001b[39m, \u001b[39m'\u001b[39m\u001b[39mDecember\u001b[39m\u001b[39m'\u001b[39m]\n\u001b[1;32m      <a href='vscode-notebook-cell://wsl%2Bubuntu-18.04/mnt/c/Users/lidya/Documents/Nuestros%20documentos/Documentos%20de%20Lidya/Estudios/Adalab/modulos/modulo3/proyectos/project-da-promo-D-module-3-team-3/notebooks/nueva_prediccion.ipynb#X15sdnNjb2RlLXJlbW90ZQ%3D%3D?line=4'>5</a>\u001b[0m dias_semana \u001b[39m=\u001b[39m [\u001b[39m'\u001b[39m\u001b[39mMonday\u001b[39m\u001b[39m'\u001b[39m, \u001b[39m'\u001b[39m\u001b[39mTuesday\u001b[39m\u001b[39m'\u001b[39m, \u001b[39m'\u001b[39m\u001b[39mWednesday\u001b[39m\u001b[39m'\u001b[39m, \u001b[39m'\u001b[39m\u001b[39mThursday\u001b[39m\u001b[39m'\u001b[39m, \u001b[39m'\u001b[39m\u001b[39mFriday\u001b[39m\u001b[39m'\u001b[39m, \u001b[39m'\u001b[39m\u001b[39mSaturday\u001b[39m\u001b[39m'\u001b[39m, \u001b[39m'\u001b[39m\u001b[39mSunday\u001b[39m\u001b[39m'\u001b[39m]\n\u001b[0;32m----> <a href='vscode-notebook-cell://wsl%2Bubuntu-18.04/mnt/c/Users/lidya/Documents/Nuestros%20documentos/Documentos%20de%20Lidya/Estudios/Adalab/modulos/modulo3/proyectos/project-da-promo-D-module-3-team-3/notebooks/nueva_prediccion.ipynb#X15sdnNjb2RlLXJlbW90ZQ%3D%3D?line=7'>8</a>\u001b[0m month \u001b[39m=\u001b[39m st\u001b[39m.\u001b[39;49mslider(\u001b[39m'\u001b[39;49m\u001b[39mMes\u001b[39;49m\u001b[39m'\u001b[39;49m, \u001b[39m0\u001b[39;49m, \u001b[39m11\u001b[39;49m, \u001b[39m0\u001b[39;49m, format_func\u001b[39m=\u001b[39;49m\u001b[39mlambda\u001b[39;49;00m i: meses[i])\n\u001b[1;32m      <a href='vscode-notebook-cell://wsl%2Bubuntu-18.04/mnt/c/Users/lidya/Documents/Nuestros%20documentos/Documentos%20de%20Lidya/Estudios/Adalab/modulos/modulo3/proyectos/project-da-promo-D-module-3-team-3/notebooks/nueva_prediccion.ipynb#X15sdnNjb2RlLXJlbW90ZQ%3D%3D?line=8'>9</a>\u001b[0m year \u001b[39m=\u001b[39m st\u001b[39m.\u001b[39mslider(\u001b[39m\"\u001b[39m\u001b[39mAño\u001b[39m\u001b[39m\"\u001b[39m, \u001b[39m2018\u001b[39m, \u001b[39m2025\u001b[39m)\n\u001b[1;32m     <a href='vscode-notebook-cell://wsl%2Bubuntu-18.04/mnt/c/Users/lidya/Documents/Nuestros%20documentos/Documentos%20de%20Lidya/Estudios/Adalab/modulos/modulo3/proyectos/project-da-promo-D-module-3-team-3/notebooks/nueva_prediccion.ipynb#X15sdnNjb2RlLXJlbW90ZQ%3D%3D?line=9'>10</a>\u001b[0m weekday \u001b[39m=\u001b[39m st\u001b[39m.\u001b[39mslider(\u001b[39m\"\u001b[39m\u001b[39mDía de la semana\u001b[39m\u001b[39m\"\u001b[39m, \u001b[39m0\u001b[39m, \u001b[39m6\u001b[39m, \u001b[39m0\u001b[39m, format_func\u001b[39m=\u001b[39m\u001b[39mlambda\u001b[39;00m i: dias_semana[i])\n",
      "File \u001b[0;32m~/anaconda3/envs/adalabenv/lib/python3.10/site-packages/streamlit/runtime/metrics_util.py:332\u001b[0m, in \u001b[0;36mgather_metrics.<locals>.wrapped_func\u001b[0;34m(*args, **kwargs)\u001b[0m\n\u001b[1;32m    330\u001b[0m         _LOGGER\u001b[39m.\u001b[39mdebug(\u001b[39m\"\u001b[39m\u001b[39mFailed to collect command telemetry\u001b[39m\u001b[39m\"\u001b[39m, exc_info\u001b[39m=\u001b[39mex)\n\u001b[1;32m    331\u001b[0m \u001b[39mtry\u001b[39;00m:\n\u001b[0;32m--> 332\u001b[0m     result \u001b[39m=\u001b[39m non_optional_func(\u001b[39m*\u001b[39;49margs, \u001b[39m*\u001b[39;49m\u001b[39m*\u001b[39;49mkwargs)\n\u001b[1;32m    333\u001b[0m \u001b[39mfinally\u001b[39;00m:\n\u001b[1;32m    334\u001b[0m     \u001b[39m# Activate tracking again if command executes without any exceptions\u001b[39;00m\n\u001b[1;32m    335\u001b[0m     \u001b[39mif\u001b[39;00m ctx:\n",
      "\u001b[0;31mTypeError\u001b[0m: SliderMixin.slider() got an unexpected keyword argument 'format_func'"
     ]
    }
   ],
   "source": [
    "\n",
    "def main():\n",
    "    st.title(\"Demo de Random Forest\")\n",
    "\n",
    "    meses = ['January', 'February', 'March', 'April', 'May', 'June', 'July', 'August', 'September', 'October', 'November', 'December']\n",
    "    dias_semana = ['Monday', 'Tuesday', 'Wednesday', 'Thursday', 'Friday', 'Saturday', 'Sunday']\n",
    "\n",
    "\n",
    "    month = st.slider('Mes', 0, 11, 0, format_func=lambda i: meses[i])\n",
    "    year = st.slider(\"Año\", 2018, 2025)\n",
    "    weekday = st.slider(\"Día de la semana\", 0, 6, 0, format_func=lambda i: dias_semana[i])\n",
    "    workingday = st.selectbox(\"Día laborable\", [0, 1])\n",
    "    holiday = st.selectbox(\"Día festivo\", [0, 1])\n",
    "    weathersit = st.slider(\"Clima\", 1, 4)\n",
    "    temp = st.slider(\"Temperatura\", float(df['temp'].min()), float(df['temp'].max()))\n",
    "    hum = st.slider(\"Humedad\", float(df['hum'].min()), float(df['hum'].max()))\n",
    "    windspeed = st.slider(\"Velocidad del viento\", float(df['windspeed'].min()), float(df['windspeed'].max()))\n",
    "\n",
    "    if st.button(\"Predecir\"):\n",
    "        prediction = prediccion(month, year, weekday, workingday, holiday, weathersit, temp, hum, windspeed)\n",
    "        st.success(f\"La cantidad de bicicletas alquiladas estimada es: {int(prediction)}\")\n",
    "\n",
    "if __name__ == '__main__':\n",
    "    main()"
   ]
  },
  {
   "cell_type": "code",
   "execution_count": 44,
   "metadata": {},
   "outputs": [
    {
     "name": "stderr",
     "output_type": "stream",
     "text": [
      "2023-05-26 19:06:29.100 WARNING streamlit.runtime.state.session_state_proxy: Session state does not function when running a script without `streamlit run`\n"
     ]
    },
    {
     "ename": "StreamlitAPIException",
     "evalue": "Slider value should either be an int/float/datetime or a list/tuple of 0 to 2 ints/floats/datetimes",
     "output_type": "error",
     "traceback": [
      "\u001b[0;31m---------------------------------------------------------------------------\u001b[0m",
      "\u001b[0;31mStreamlitAPIException\u001b[0m                     Traceback (most recent call last)",
      "\u001b[1;32m/mnt/c/Users/lidya/Documents/Nuestros documentos/Documentos de Lidya/Estudios/Adalab/modulos/modulo3/proyectos/project-da-promo-D-module-3-team-3/notebooks/nueva_prediccion.ipynb Celda 9\u001b[0m in \u001b[0;36m1\n\u001b[0;32m----> <a href='vscode-notebook-cell://wsl%2Bubuntu-18.04/mnt/c/Users/lidya/Documents/Nuestros%20documentos/Documentos%20de%20Lidya/Estudios/Adalab/modulos/modulo3/proyectos/project-da-promo-D-module-3-team-3/notebooks/nueva_prediccion.ipynb#X16sdnNjb2RlLXJlbW90ZQ%3D%3D?line=0'>1</a>\u001b[0m month \u001b[39m=\u001b[39m st\u001b[39m.\u001b[39;49mslider(\u001b[39m\"\u001b[39;49m\u001b[39mMes\u001b[39;49m\u001b[39m\"\u001b[39;49m, \u001b[39m\"\u001b[39;49m\u001b[39mJanuary\u001b[39;49m\u001b[39m\"\u001b[39;49m, \u001b[39m\"\u001b[39;49m\u001b[39mDecember\u001b[39;49m\u001b[39m\"\u001b[39;49m)\n\u001b[1;32m      <a href='vscode-notebook-cell://wsl%2Bubuntu-18.04/mnt/c/Users/lidya/Documents/Nuestros%20documentos/Documentos%20de%20Lidya/Estudios/Adalab/modulos/modulo3/proyectos/project-da-promo-D-module-3-team-3/notebooks/nueva_prediccion.ipynb#X16sdnNjb2RlLXJlbW90ZQ%3D%3D?line=1'>2</a>\u001b[0m month\n",
      "File \u001b[0;32m~/anaconda3/envs/adalabenv/lib/python3.10/site-packages/streamlit/runtime/metrics_util.py:332\u001b[0m, in \u001b[0;36mgather_metrics.<locals>.wrapped_func\u001b[0;34m(*args, **kwargs)\u001b[0m\n\u001b[1;32m    330\u001b[0m         _LOGGER\u001b[39m.\u001b[39mdebug(\u001b[39m\"\u001b[39m\u001b[39mFailed to collect command telemetry\u001b[39m\u001b[39m\"\u001b[39m, exc_info\u001b[39m=\u001b[39mex)\n\u001b[1;32m    331\u001b[0m \u001b[39mtry\u001b[39;00m:\n\u001b[0;32m--> 332\u001b[0m     result \u001b[39m=\u001b[39m non_optional_func(\u001b[39m*\u001b[39;49margs, \u001b[39m*\u001b[39;49m\u001b[39m*\u001b[39;49mkwargs)\n\u001b[1;32m    333\u001b[0m \u001b[39mfinally\u001b[39;00m:\n\u001b[1;32m    334\u001b[0m     \u001b[39m# Activate tracking again if command executes without any exceptions\u001b[39;00m\n\u001b[1;32m    335\u001b[0m     \u001b[39mif\u001b[39;00m ctx:\n",
      "File \u001b[0;32m~/anaconda3/envs/adalabenv/lib/python3.10/site-packages/streamlit/elements/slider.py:331\u001b[0m, in \u001b[0;36mSliderMixin.slider\u001b[0;34m(self, label, min_value, max_value, value, step, format, key, help, on_change, args, kwargs, disabled, label_visibility)\u001b[0m\n\u001b[1;32m    194\u001b[0m \u001b[39mr\u001b[39m\u001b[39m\"\"\"Display a slider widget.\u001b[39;00m\n\u001b[1;32m    195\u001b[0m \n\u001b[1;32m    196\u001b[0m \u001b[39mThis supports int, float, date, time, and datetime types.\u001b[39;00m\n\u001b[0;32m   (...)\u001b[0m\n\u001b[1;32m    328\u001b[0m \n\u001b[1;32m    329\u001b[0m \u001b[39m\"\"\"\u001b[39;00m\n\u001b[1;32m    330\u001b[0m ctx \u001b[39m=\u001b[39m get_script_run_ctx()\n\u001b[0;32m--> 331\u001b[0m \u001b[39mreturn\u001b[39;00m \u001b[39mself\u001b[39;49m\u001b[39m.\u001b[39;49m_slider(\n\u001b[1;32m    332\u001b[0m     label\u001b[39m=\u001b[39;49mlabel,\n\u001b[1;32m    333\u001b[0m     min_value\u001b[39m=\u001b[39;49mmin_value,\n\u001b[1;32m    334\u001b[0m     max_value\u001b[39m=\u001b[39;49mmax_value,\n\u001b[1;32m    335\u001b[0m     value\u001b[39m=\u001b[39;49mvalue,\n\u001b[1;32m    336\u001b[0m     step\u001b[39m=\u001b[39;49mstep,\n\u001b[1;32m    337\u001b[0m     \u001b[39mformat\u001b[39;49m\u001b[39m=\u001b[39;49m\u001b[39mformat\u001b[39;49m,\n\u001b[1;32m    338\u001b[0m     key\u001b[39m=\u001b[39;49mkey,\n\u001b[1;32m    339\u001b[0m     help\u001b[39m=\u001b[39;49mhelp,\n\u001b[1;32m    340\u001b[0m     on_change\u001b[39m=\u001b[39;49mon_change,\n\u001b[1;32m    341\u001b[0m     args\u001b[39m=\u001b[39;49margs,\n\u001b[1;32m    342\u001b[0m     kwargs\u001b[39m=\u001b[39;49mkwargs,\n\u001b[1;32m    343\u001b[0m     disabled\u001b[39m=\u001b[39;49mdisabled,\n\u001b[1;32m    344\u001b[0m     label_visibility\u001b[39m=\u001b[39;49mlabel_visibility,\n\u001b[1;32m    345\u001b[0m     ctx\u001b[39m=\u001b[39;49mctx,\n\u001b[1;32m    346\u001b[0m )\n",
      "File \u001b[0;32m~/anaconda3/envs/adalabenv/lib/python3.10/site-packages/streamlit/elements/slider.py:398\u001b[0m, in \u001b[0;36mSliderMixin._slider\u001b[0;34m(self, label, min_value, max_value, value, step, format, key, help, on_change, args, kwargs, disabled, label_visibility, ctx)\u001b[0m\n\u001b[1;32m    396\u001b[0m range_value \u001b[39m=\u001b[39m \u001b[39misinstance\u001b[39m(value, (\u001b[39mlist\u001b[39m, \u001b[39mtuple\u001b[39m)) \u001b[39mand\u001b[39;00m \u001b[39mlen\u001b[39m(value) \u001b[39min\u001b[39;00m (\u001b[39m0\u001b[39m, \u001b[39m1\u001b[39m, \u001b[39m2\u001b[39m)\n\u001b[1;32m    397\u001b[0m \u001b[39mif\u001b[39;00m \u001b[39mnot\u001b[39;00m single_value \u001b[39mand\u001b[39;00m \u001b[39mnot\u001b[39;00m range_value:\n\u001b[0;32m--> 398\u001b[0m     \u001b[39mraise\u001b[39;00m StreamlitAPIException(\n\u001b[1;32m    399\u001b[0m         \u001b[39m\"\u001b[39m\u001b[39mSlider value should either be an int/float/datetime or a list/tuple of \u001b[39m\u001b[39m\"\u001b[39m\n\u001b[1;32m    400\u001b[0m         \u001b[39m\"\u001b[39m\u001b[39m0 to 2 ints/floats/datetimes\u001b[39m\u001b[39m\"\u001b[39m\n\u001b[1;32m    401\u001b[0m     )\n\u001b[1;32m    403\u001b[0m \u001b[39m# Simplify future logic by always making value a list\u001b[39;00m\n\u001b[1;32m    404\u001b[0m \u001b[39mif\u001b[39;00m single_value:\n",
      "\u001b[0;31mStreamlitAPIException\u001b[0m: Slider value should either be an int/float/datetime or a list/tuple of 0 to 2 ints/floats/datetimes"
     ]
    }
   ],
   "source": [
    "month = st.slider(\"Mes\", \"January, \"December\")\n",
    "month"
   ]
  },
  {
   "cell_type": "code",
   "execution_count": null,
   "metadata": {},
   "outputs": [],
   "source": []
  }
 ],
 "metadata": {
  "kernelspec": {
   "display_name": "adalabenv",
   "language": "python",
   "name": "python3"
  },
  "language_info": {
   "codemirror_mode": {
    "name": "ipython",
    "version": 3
   },
   "file_extension": ".py",
   "mimetype": "text/x-python",
   "name": "python",
   "nbconvert_exporter": "python",
   "pygments_lexer": "ipython3",
   "version": "3.10.9"
  },
  "orig_nbformat": 4
 },
 "nbformat": 4,
 "nbformat_minor": 2
}
